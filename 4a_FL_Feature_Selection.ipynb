{
 "cells": [
  {
   "cell_type": "markdown",
   "metadata": {},
   "source": [
    "## CSCI 470 Activities and Case Studies\n",
    "\n",
    "1. For all activities, you are allowed to collaborate with a partner. \n",
    "1. For case studies, you should work individually and are **not** allowed to collaborate.\n",
    "\n",
    "By filling out this notebook and submitting it, you acknowledge that you are aware of the above policies and are agreeing to comply with them."
   ]
  },
  {
   "cell_type": "markdown",
   "metadata": {},
   "source": [
    "Some considerations with regard to how these notebooks will be graded:\n",
    "\n",
    "1. Cells in which \"# YOUR CODE HERE\" is found are the cells where your graded code should be written.\n",
    "2. In order to test out or debug your code you may also create notebook cells or edit existing notebook cells other than \"# YOUR CODE HERE\". We actually highly recommend you do so to gain a better understanding of what is happening. However, during grading, **these changes are ignored**. \n",
    "3. You must ensure that all your code for the particular task is available in the cells that say \"# YOUR CODE HERE\"\n",
    "4. Every cell that says \"# YOUR CODE HERE\" is followed by a \"raise NotImplementedError\". You need to remove that line. During grading, if an error occurs then you will lose points for your work in that section.\n",
    "5. If your code passes the \"assert\" statements, then no output will result. If your code fails the \"assert\" statements, you will get an \"AssertionError\". Getting an assertion error means you will not receive points for that particular task.\n",
    "6. If you edit the \"assert\" statements to make your code pass, they will still fail when they are graded since the autograder will ignore the modified \"assert\" statement. Make sure you don't edit the assert statements.\n",
    "7. We may sometimes have \"hidden\" tests for grading. This means that passing the visible \"assert\" statements is not sufficient. The \"assert\" statements are there as a guide but you need to make sure you understand what you're required to do and ensure that you are doing it correctly. Passing the visible tests is necessary but not sufficient to get the grade for that cell.\n",
    "8. When you are asked to define a function, make sure you **don't** use any variables outside of the parameters passed to the function. You can think of the parameters being passed to the function as a hint. Make sure you're using all of those variables.\n",
    "9. The **Grading** section at the end of the document (before the **Feedback** section) contains some code for our autograder on GradeScope. You are expected to fail this block of code in your Jupyter environment. DO NOT edit this block of code, or you may not get points for your assignment.\n",
    "10. Finally, **make sure you run \"Kernel > Restart and Run All\"** and pass all the asserts before submitting. If you don't restart the kernel, there may be some code that you ran and deleted that is still being used and that was why your asserts were passing."
   ]
  },
  {
   "cell_type": "markdown",
   "metadata": {
    "deletable": false,
    "editable": false,
    "id": "T_2JoQv4f-GN",
    "nbgrader": {
     "cell_type": "markdown",
     "checksum": "7549448ad2c14f6dd4289a8ed77b0c6c",
     "grade": false,
     "grade_id": "cell-9aa804aaaa8f9bca",
     "locked": true,
     "schema_version": 3,
     "solution": false
    }
   },
   "source": [
    "# Feature Learning\n",
    "\n",
    "In this exercise we will run feature learning methods on a dataset to identify the key features to use for predicting a target within it."
   ]
  },
  {
   "cell_type": "code",
   "execution_count": 1,
   "metadata": {
    "executionInfo": {
     "elapsed": 1946,
     "status": "ok",
     "timestamp": 1601496122865,
     "user": {
      "displayName": "Matthew Roos",
      "photoUrl": "https://lh3.googleusercontent.com/a-/AOh14GiyeRFdVCLS_PQVkktJp66dmuu4m19N-Ck1xi8AIA=s64",
      "userId": "16478366312534994918"
     },
     "user_tz": 360
    },
    "id": "Edm3DJnuf-GP",
    "nbgrader": {
     "grade": false,
     "grade_id": "cell-675ea75b33420748",
     "locked": false,
     "schema_version": 3,
     "solution": false
    },
    "ExecuteTime": {
     "end_time": "2024-04-10T14:11:50.318679Z",
     "start_time": "2024-04-10T14:11:48.553781Z"
    }
   },
   "outputs": [],
   "source": [
    "import numpy as np\n",
    "import pandas as pd\n",
    "import matplotlib\n",
    "import matplotlib.pyplot as plt\n",
    "import sklearn as sk\n",
    "\n",
    "plt.style.use(\"ggplot\")"
   ]
  },
  {
   "cell_type": "code",
   "execution_count": 2,
   "metadata": {
    "executionInfo": {
     "elapsed": 2336,
     "status": "ok",
     "timestamp": 1601496123261,
     "user": {
      "displayName": "Matthew Roos",
      "photoUrl": "https://lh3.googleusercontent.com/a-/AOh14GiyeRFdVCLS_PQVkktJp66dmuu4m19N-Ck1xi8AIA=s64",
      "userId": "16478366312534994918"
     },
     "user_tz": 360
    },
    "id": "9ABNy9yqf-GX",
    "nbgrader": {
     "grade": false,
     "grade_id": "cell-dcc937bc7b3f119b",
     "locked": false,
     "schema_version": 3,
     "solution": false
    },
    "ExecuteTime": {
     "end_time": "2024-04-10T14:11:50.627259Z",
     "start_time": "2024-04-10T14:11:50.319009Z"
    }
   },
   "outputs": [],
   "source": [
    "from sklearn.datasets import fetch_california_housing\n",
    "from sklearn.model_selection import train_test_split, GridSearchCV\n",
    "from sklearn.feature_selection import SelectKBest, mutual_info_regression, RFE\n",
    "from sklearn.linear_model import LinearRegression, LassoCV\n",
    "from sklearn.decomposition import PCA\n",
    "from sklearn.metrics import mean_squared_error\n",
    "from sklearn.preprocessing import StandardScaler"
   ]
  },
  {
   "cell_type": "markdown",
   "metadata": {
    "deletable": false,
    "editable": false,
    "id": "CrtnuM-7f-Gf",
    "nbgrader": {
     "cell_type": "markdown",
     "checksum": "efaa5584418a51fb0bb196ecd64a09dc",
     "grade": false,
     "grade_id": "cell-700c5cdb1419069b",
     "locked": true,
     "schema_version": 3,
     "solution": false
    }
   },
   "source": [
    "The data we'll be working with is the [California housing dataset](https://scikit-learn.org/stable/datasets/real_world.html#california-housing-dataset)."
   ]
  },
  {
   "cell_type": "code",
   "execution_count": 3,
   "metadata": {
    "executionInfo": {
     "elapsed": 2331,
     "status": "ok",
     "timestamp": 1601496123261,
     "user": {
      "displayName": "Matthew Roos",
      "photoUrl": "https://lh3.googleusercontent.com/a-/AOh14GiyeRFdVCLS_PQVkktJp66dmuu4m19N-Ck1xi8AIA=s64",
      "userId": "16478366312534994918"
     },
     "user_tz": 360
    },
    "id": "-KDRnvGXf-Gf",
    "nbgrader": {
     "grade": false,
     "grade_id": "cell-5ec1b36cba18af4d",
     "locked": false,
     "schema_version": 3,
     "solution": false
    },
    "ExecuteTime": {
     "end_time": "2024-04-10T14:11:50.635392Z",
     "start_time": "2024-04-10T14:11:50.628224Z"
    }
   },
   "outputs": [],
   "source": [
    "house_data = fetch_california_housing()"
   ]
  },
  {
   "cell_type": "code",
   "execution_count": 4,
   "metadata": {
    "colab": {
     "base_uri": "https://localhost:8080/",
     "height": 729
    },
    "executionInfo": {
     "elapsed": 2326,
     "status": "ok",
     "timestamp": 1601496123262,
     "user": {
      "displayName": "Matthew Roos",
      "photoUrl": "https://lh3.googleusercontent.com/a-/AOh14GiyeRFdVCLS_PQVkktJp66dmuu4m19N-Ck1xi8AIA=s64",
      "userId": "16478366312534994918"
     },
     "user_tz": 360
    },
    "id": "DQDhiDQsf-Gk",
    "outputId": "bf852c02-e1b8-4b70-a444-40584bb9bd1f",
    "ExecuteTime": {
     "end_time": "2024-04-10T14:11:50.637727Z",
     "start_time": "2024-04-10T14:11:50.636042Z"
    }
   },
   "outputs": [
    {
     "name": "stdout",
     "output_type": "stream",
     "text": [
      ".. _california_housing_dataset:\n",
      "\n",
      "California Housing dataset\n",
      "--------------------------\n",
      "\n",
      "**Data Set Characteristics:**\n",
      "\n",
      ":Number of Instances: 20640\n",
      "\n",
      ":Number of Attributes: 8 numeric, predictive attributes and the target\n",
      "\n",
      ":Attribute Information:\n",
      "    - MedInc        median income in block group\n",
      "    - HouseAge      median house age in block group\n",
      "    - AveRooms      average number of rooms per household\n",
      "    - AveBedrms     average number of bedrooms per household\n",
      "    - Population    block group population\n",
      "    - AveOccup      average number of household members\n",
      "    - Latitude      block group latitude\n",
      "    - Longitude     block group longitude\n",
      "\n",
      ":Missing Attribute Values: None\n",
      "\n",
      "This dataset was obtained from the StatLib repository.\n",
      "https://www.dcc.fc.up.pt/~ltorgo/Regression/cal_housing.html\n",
      "\n",
      "The target variable is the median house value for California districts,\n",
      "expressed in hundreds of thousands of dollars ($100,000).\n",
      "\n",
      "This dataset was derived from the 1990 U.S. census, using one row per census\n",
      "block group. A block group is the smallest geographical unit for which the U.S.\n",
      "Census Bureau publishes sample data (a block group typically has a population\n",
      "of 600 to 3,000 people).\n",
      "\n",
      "A household is a group of people residing within a home. Since the average\n",
      "number of rooms and bedrooms in this dataset are provided per household, these\n",
      "columns may take surprisingly large values for block groups with few households\n",
      "and many empty houses, such as vacation resorts.\n",
      "\n",
      "It can be downloaded/loaded using the\n",
      ":func:`sklearn.datasets.fetch_california_housing` function.\n",
      "\n",
      ".. topic:: References\n",
      "\n",
      "    - Pace, R. Kelley and Ronald Barry, Sparse Spatial Autoregressions,\n",
      "      Statistics and Probability Letters, 33 (1997) 291-297\n"
     ]
    }
   ],
   "source": [
    "print(house_data[\"DESCR\"])"
   ]
  },
  {
   "cell_type": "markdown",
   "metadata": {
    "id": "brdgZXskf-Gp"
   },
   "source": [
    "By reading the above information about the data, which features do you intuit meaningful for predicting the target? Which are not meaningful?"
   ]
  },
  {
   "cell_type": "code",
   "execution_count": 5,
   "metadata": {
    "executionInfo": {
     "elapsed": 2320,
     "status": "ok",
     "timestamp": 1601496123262,
     "user": {
      "displayName": "Matthew Roos",
      "photoUrl": "https://lh3.googleusercontent.com/a-/AOh14GiyeRFdVCLS_PQVkktJp66dmuu4m19N-Ck1xi8AIA=s64",
      "userId": "16478366312534994918"
     },
     "user_tz": 360
    },
    "id": "xP0XQHKFf-Gq",
    "nbgrader": {
     "grade": false,
     "grade_id": "cell-f7103f854887d832",
     "locked": false,
     "schema_version": 3,
     "solution": false
    },
    "ExecuteTime": {
     "end_time": "2024-04-10T14:11:50.643864Z",
     "start_time": "2024-04-10T14:11:50.639418Z"
    }
   },
   "outputs": [],
   "source": [
    "house_features = pd.DataFrame(house_data[\"data\"], columns=house_data[\"feature_names\"])\n",
    "house_prices = pd.Series(house_data[\"target\"])"
   ]
  },
  {
   "cell_type": "code",
   "execution_count": 6,
   "metadata": {
    "colab": {
     "base_uri": "https://localhost:8080/",
     "height": 206
    },
    "executionInfo": {
     "elapsed": 2315,
     "status": "ok",
     "timestamp": 1601496123264,
     "user": {
      "displayName": "Matthew Roos",
      "photoUrl": "https://lh3.googleusercontent.com/a-/AOh14GiyeRFdVCLS_PQVkktJp66dmuu4m19N-Ck1xi8AIA=s64",
      "userId": "16478366312534994918"
     },
     "user_tz": 360
    },
    "id": "UeLpqrdbf-Gv",
    "nbgrader": {
     "grade": false,
     "grade_id": "cell-10562d702c478147",
     "locked": false,
     "schema_version": 3,
     "solution": false
    },
    "outputId": "f6fbe77f-365d-4220-9423-16c698058b34",
    "ExecuteTime": {
     "end_time": "2024-04-10T14:11:50.651879Z",
     "start_time": "2024-04-10T14:11:50.642015Z"
    }
   },
   "outputs": [
    {
     "data": {
      "text/plain": "   MedInc  HouseAge  AveRooms  AveBedrms  Population  AveOccup  Latitude  \\\n0  8.3252      41.0  6.984127   1.023810       322.0  2.555556     37.88   \n1  8.3014      21.0  6.238137   0.971880      2401.0  2.109842     37.86   \n2  7.2574      52.0  8.288136   1.073446       496.0  2.802260     37.85   \n3  5.6431      52.0  5.817352   1.073059       558.0  2.547945     37.85   \n4  3.8462      52.0  6.281853   1.081081       565.0  2.181467     37.85   \n\n   Longitude  \n0    -122.23  \n1    -122.22  \n2    -122.24  \n3    -122.25  \n4    -122.25  ",
      "text/html": "<div>\n<style scoped>\n    .dataframe tbody tr th:only-of-type {\n        vertical-align: middle;\n    }\n\n    .dataframe tbody tr th {\n        vertical-align: top;\n    }\n\n    .dataframe thead th {\n        text-align: right;\n    }\n</style>\n<table border=\"1\" class=\"dataframe\">\n  <thead>\n    <tr style=\"text-align: right;\">\n      <th></th>\n      <th>MedInc</th>\n      <th>HouseAge</th>\n      <th>AveRooms</th>\n      <th>AveBedrms</th>\n      <th>Population</th>\n      <th>AveOccup</th>\n      <th>Latitude</th>\n      <th>Longitude</th>\n    </tr>\n  </thead>\n  <tbody>\n    <tr>\n      <th>0</th>\n      <td>8.3252</td>\n      <td>41.0</td>\n      <td>6.984127</td>\n      <td>1.023810</td>\n      <td>322.0</td>\n      <td>2.555556</td>\n      <td>37.88</td>\n      <td>-122.23</td>\n    </tr>\n    <tr>\n      <th>1</th>\n      <td>8.3014</td>\n      <td>21.0</td>\n      <td>6.238137</td>\n      <td>0.971880</td>\n      <td>2401.0</td>\n      <td>2.109842</td>\n      <td>37.86</td>\n      <td>-122.22</td>\n    </tr>\n    <tr>\n      <th>2</th>\n      <td>7.2574</td>\n      <td>52.0</td>\n      <td>8.288136</td>\n      <td>1.073446</td>\n      <td>496.0</td>\n      <td>2.802260</td>\n      <td>37.85</td>\n      <td>-122.24</td>\n    </tr>\n    <tr>\n      <th>3</th>\n      <td>5.6431</td>\n      <td>52.0</td>\n      <td>5.817352</td>\n      <td>1.073059</td>\n      <td>558.0</td>\n      <td>2.547945</td>\n      <td>37.85</td>\n      <td>-122.25</td>\n    </tr>\n    <tr>\n      <th>4</th>\n      <td>3.8462</td>\n      <td>52.0</td>\n      <td>6.281853</td>\n      <td>1.081081</td>\n      <td>565.0</td>\n      <td>2.181467</td>\n      <td>37.85</td>\n      <td>-122.25</td>\n    </tr>\n  </tbody>\n</table>\n</div>"
     },
     "execution_count": 6,
     "metadata": {},
     "output_type": "execute_result"
    }
   ],
   "source": [
    "house_features.head()"
   ]
  },
  {
   "cell_type": "code",
   "execution_count": 7,
   "metadata": {
    "colab": {
     "base_uri": "https://localhost:8080/",
     "height": 300
    },
    "executionInfo": {
     "elapsed": 2307,
     "status": "ok",
     "timestamp": 1601496123264,
     "user": {
      "displayName": "Matthew Roos",
      "photoUrl": "https://lh3.googleusercontent.com/a-/AOh14GiyeRFdVCLS_PQVkktJp66dmuu4m19N-Ck1xi8AIA=s64",
      "userId": "16478366312534994918"
     },
     "user_tz": 360
    },
    "id": "losFXUUkf-Gz",
    "nbgrader": {
     "grade": false,
     "grade_id": "cell-f287bd15a4b23bc5",
     "locked": false,
     "schema_version": 3,
     "solution": false
    },
    "outputId": "4bc2daa3-1f23-4292-d901-6110223bb93b",
    "ExecuteTime": {
     "end_time": "2024-04-10T14:11:51.105176Z",
     "start_time": "2024-04-10T14:11:51.045583Z"
    }
   },
   "outputs": [
    {
     "data": {
      "text/plain": "             MedInc      HouseAge      AveRooms     AveBedrms    Population  \\\ncount  20640.000000  20640.000000  20640.000000  20640.000000  20640.000000   \nmean       3.870671     28.639486      5.429000      1.096675   1425.476744   \nstd        1.899822     12.585558      2.474173      0.473911   1132.462122   \nmin        0.499900      1.000000      0.846154      0.333333      3.000000   \n25%        2.563400     18.000000      4.440716      1.006079    787.000000   \n50%        3.534800     29.000000      5.229129      1.048780   1166.000000   \n75%        4.743250     37.000000      6.052381      1.099526   1725.000000   \nmax       15.000100     52.000000    141.909091     34.066667  35682.000000   \n\n           AveOccup      Latitude     Longitude  \ncount  20640.000000  20640.000000  20640.000000  \nmean       3.070655     35.631861   -119.569704  \nstd       10.386050      2.135952      2.003532  \nmin        0.692308     32.540000   -124.350000  \n25%        2.429741     33.930000   -121.800000  \n50%        2.818116     34.260000   -118.490000  \n75%        3.282261     37.710000   -118.010000  \nmax     1243.333333     41.950000   -114.310000  ",
      "text/html": "<div>\n<style scoped>\n    .dataframe tbody tr th:only-of-type {\n        vertical-align: middle;\n    }\n\n    .dataframe tbody tr th {\n        vertical-align: top;\n    }\n\n    .dataframe thead th {\n        text-align: right;\n    }\n</style>\n<table border=\"1\" class=\"dataframe\">\n  <thead>\n    <tr style=\"text-align: right;\">\n      <th></th>\n      <th>MedInc</th>\n      <th>HouseAge</th>\n      <th>AveRooms</th>\n      <th>AveBedrms</th>\n      <th>Population</th>\n      <th>AveOccup</th>\n      <th>Latitude</th>\n      <th>Longitude</th>\n    </tr>\n  </thead>\n  <tbody>\n    <tr>\n      <th>count</th>\n      <td>20640.000000</td>\n      <td>20640.000000</td>\n      <td>20640.000000</td>\n      <td>20640.000000</td>\n      <td>20640.000000</td>\n      <td>20640.000000</td>\n      <td>20640.000000</td>\n      <td>20640.000000</td>\n    </tr>\n    <tr>\n      <th>mean</th>\n      <td>3.870671</td>\n      <td>28.639486</td>\n      <td>5.429000</td>\n      <td>1.096675</td>\n      <td>1425.476744</td>\n      <td>3.070655</td>\n      <td>35.631861</td>\n      <td>-119.569704</td>\n    </tr>\n    <tr>\n      <th>std</th>\n      <td>1.899822</td>\n      <td>12.585558</td>\n      <td>2.474173</td>\n      <td>0.473911</td>\n      <td>1132.462122</td>\n      <td>10.386050</td>\n      <td>2.135952</td>\n      <td>2.003532</td>\n    </tr>\n    <tr>\n      <th>min</th>\n      <td>0.499900</td>\n      <td>1.000000</td>\n      <td>0.846154</td>\n      <td>0.333333</td>\n      <td>3.000000</td>\n      <td>0.692308</td>\n      <td>32.540000</td>\n      <td>-124.350000</td>\n    </tr>\n    <tr>\n      <th>25%</th>\n      <td>2.563400</td>\n      <td>18.000000</td>\n      <td>4.440716</td>\n      <td>1.006079</td>\n      <td>787.000000</td>\n      <td>2.429741</td>\n      <td>33.930000</td>\n      <td>-121.800000</td>\n    </tr>\n    <tr>\n      <th>50%</th>\n      <td>3.534800</td>\n      <td>29.000000</td>\n      <td>5.229129</td>\n      <td>1.048780</td>\n      <td>1166.000000</td>\n      <td>2.818116</td>\n      <td>34.260000</td>\n      <td>-118.490000</td>\n    </tr>\n    <tr>\n      <th>75%</th>\n      <td>4.743250</td>\n      <td>37.000000</td>\n      <td>6.052381</td>\n      <td>1.099526</td>\n      <td>1725.000000</td>\n      <td>3.282261</td>\n      <td>37.710000</td>\n      <td>-118.010000</td>\n    </tr>\n    <tr>\n      <th>max</th>\n      <td>15.000100</td>\n      <td>52.000000</td>\n      <td>141.909091</td>\n      <td>34.066667</td>\n      <td>35682.000000</td>\n      <td>1243.333333</td>\n      <td>41.950000</td>\n      <td>-114.310000</td>\n    </tr>\n  </tbody>\n</table>\n</div>"
     },
     "execution_count": 7,
     "metadata": {},
     "output_type": "execute_result"
    }
   ],
   "source": [
    "house_features.describe()"
   ]
  },
  {
   "cell_type": "code",
   "execution_count": 8,
   "metadata": {
    "colab": {
     "base_uri": "https://localhost:8080/",
     "height": 121
    },
    "executionInfo": {
     "elapsed": 2302,
     "status": "ok",
     "timestamp": 1601496123266,
     "user": {
      "displayName": "Matthew Roos",
      "photoUrl": "https://lh3.googleusercontent.com/a-/AOh14GiyeRFdVCLS_PQVkktJp66dmuu4m19N-Ck1xi8AIA=s64",
      "userId": "16478366312534994918"
     },
     "user_tz": 360
    },
    "id": "yM_VmB22f-G2",
    "nbgrader": {
     "grade": false,
     "grade_id": "cell-399de11feef27c9f",
     "locked": false,
     "schema_version": 3,
     "solution": false
    },
    "outputId": "8980ba7b-3998-4598-d745-77df7da6fe21",
    "ExecuteTime": {
     "end_time": "2024-04-10T14:11:57.997562Z",
     "start_time": "2024-04-10T14:11:57.988322Z"
    }
   },
   "outputs": [
    {
     "data": {
      "text/plain": "0    4.526\n1    3.585\n2    3.521\n3    3.413\n4    3.422\ndtype: float64"
     },
     "execution_count": 8,
     "metadata": {},
     "output_type": "execute_result"
    }
   ],
   "source": [
    "house_prices.head()"
   ]
  },
  {
   "cell_type": "code",
   "execution_count": 9,
   "metadata": {
    "colab": {
     "base_uri": "https://localhost:8080/",
     "height": 173
    },
    "executionInfo": {
     "elapsed": 2294,
     "status": "ok",
     "timestamp": 1601496123266,
     "user": {
      "displayName": "Matthew Roos",
      "photoUrl": "https://lh3.googleusercontent.com/a-/AOh14GiyeRFdVCLS_PQVkktJp66dmuu4m19N-Ck1xi8AIA=s64",
      "userId": "16478366312534994918"
     },
     "user_tz": 360
    },
    "id": "hkg2UDIuf-G6",
    "nbgrader": {
     "grade": false,
     "grade_id": "cell-20fdd83710664f14",
     "locked": false,
     "schema_version": 3,
     "solution": false
    },
    "outputId": "2501c3f9-eaa9-4adf-b169-77c1a4f27f5d",
    "ExecuteTime": {
     "end_time": "2024-04-10T14:11:58.593699Z",
     "start_time": "2024-04-10T14:11:58.575571Z"
    }
   },
   "outputs": [
    {
     "data": {
      "text/plain": "count    20640.000000\nmean         2.068558\nstd          1.153956\nmin          0.149990\n25%          1.196000\n50%          1.797000\n75%          2.647250\nmax          5.000010\ndtype: float64"
     },
     "execution_count": 9,
     "metadata": {},
     "output_type": "execute_result"
    }
   ],
   "source": [
    "house_prices.describe()"
   ]
  },
  {
   "cell_type": "markdown",
   "metadata": {},
   "source": [
    "First, we'll [standardize](https://scikit-learn.org/stable/modules/preprocessing.html#standardization-or-mean-removal-and-variance-scaling) our data to be used by our model. We'll use the [StandardScaler](https://scikit-learn.org/stable/modules/generated/sklearn.preprocessing.StandardScaler.html#sklearn.preprocessing.StandardScaler) which just adjusts the mean to be 0 and scales the variance of the data.\n",
    "\n",
    "This class is a scikit-learn transformer which follows a two phase process:\n",
    "1. First it fits to the data to learn something (in this case how to scale the data)\n",
    "1. Then it transforms any desired dataset based on the scale it learned.\n",
    "\n",
    "We also have a helper function that is `fit_transform` that allows us to do both processes at the same time.\n",
    "\n",
    "Now since we only ever want to fit our model once, we should never use fit_transform more than once. We can use `fit_transform` on training data but then just `transform` the test data."
   ]
  },
  {
   "cell_type": "code",
   "execution_count": 10,
   "metadata": {
    "executionInfo": {
     "elapsed": 2291,
     "status": "ok",
     "timestamp": 1601496123266,
     "user": {
      "displayName": "Matthew Roos",
      "photoUrl": "https://lh3.googleusercontent.com/a-/AOh14GiyeRFdVCLS_PQVkktJp66dmuu4m19N-Ck1xi8AIA=s64",
      "userId": "16478366312534994918"
     },
     "user_tz": 360
    },
    "id": "d2_XRXYtf-G_",
    "nbgrader": {
     "grade": false,
     "grade_id": "cell-74fc4b2531172f7d",
     "locked": false,
     "schema_version": 3,
     "solution": false
    },
    "ExecuteTime": {
     "end_time": "2024-04-10T14:12:03.081063Z",
     "start_time": "2024-04-10T14:12:03.075304Z"
    }
   },
   "outputs": [],
   "source": [
    "X_train, X_test, y_train, y_test = train_test_split(house_features, house_prices, test_size=0.2, random_state=0)"
   ]
  },
  {
   "cell_type": "code",
   "execution_count": 11,
   "metadata": {
    "deletable": false,
    "nbgrader": {
     "cell_type": "code",
     "checksum": "55c0fb6df206079dbe5e4e8f6e1e72ba",
     "grade": false,
     "grade_id": "cell-bdaabddc6717cfff",
     "locked": false,
     "schema_version": 3,
     "solution": true,
     "task": false
    },
    "ExecuteTime": {
     "end_time": "2024-04-10T14:12:03.891489Z",
     "start_time": "2024-04-10T14:12:03.883883Z"
    }
   },
   "outputs": [],
   "source": [
    "# Use a StandardScaler to standardize the house_features.\n",
    "# Update (overwrite) the older values of X_train and X_test with the\n",
    "# scaled values that are output by the StandardScaler object.\n",
    "scaler = StandardScaler()\n",
    "\n",
    "scaler.fit(X_train)\n",
    "\n",
    "X_train = scaler.transform(X_train)\n",
    "X_test = scaler.transform(X_test)"
   ]
  },
  {
   "cell_type": "code",
   "execution_count": 12,
   "metadata": {
    "ExecuteTime": {
     "end_time": "2024-04-10T14:12:04.771712Z",
     "start_time": "2024-04-10T14:12:04.766201Z"
    }
   },
   "outputs": [
    {
     "data": {
      "text/plain": "array([-0.01475655,  0.00810338, -0.00714746,  0.0051149 ,  0.00017061,\n        0.03115683,  0.01656657, -0.01669752])"
     },
     "execution_count": 12,
     "metadata": {},
     "output_type": "execute_result"
    }
   ],
   "source": [
    "X_test.mean(axis = 0)"
   ]
  },
  {
   "cell_type": "code",
   "execution_count": 13,
   "metadata": {
    "deletable": false,
    "editable": false,
    "nbgrader": {
     "cell_type": "code",
     "checksum": "58ba9c64c9e90cb789bbe2bbd706ee2c",
     "grade": true,
     "grade_id": "cell-4046c94b9fe9f389",
     "locked": true,
     "points": 5,
     "schema_version": 3,
     "solution": false,
     "task": false
    },
    "ExecuteTime": {
     "end_time": "2024-04-10T14:12:06.625658Z",
     "start_time": "2024-04-10T14:12:06.617092Z"
    }
   },
   "outputs": [],
   "source": [
    "assert np.all(X_train.mean(axis=0)< 0.0000000001)\n",
    "\n",
    "# Note that if you do a fit_transform on the test data you did that part wrong\n",
    "assert np.all(np.abs(X_test.mean(axis=0)) > 0.0000001)\n",
    "assert np.all(np.abs(X_test.mean(axis=0)) < 0.04) "
   ]
  },
  {
   "cell_type": "markdown",
   "metadata": {
    "deletable": false,
    "editable": false,
    "id": "4ove3H2of-G-",
    "nbgrader": {
     "cell_type": "markdown",
     "checksum": "939ac14d8703e823f1c6cd491e47a24c",
     "grade": false,
     "grade_id": "cell-a6d14e9cfadf9cbe",
     "locked": true,
     "schema_version": 3,
     "solution": false
    }
   },
   "source": [
    "Next, we'll split our data in order to follow the process we had outlined several lectures ago for effectively evaluating supervised learning problems."
   ]
  },
  {
   "cell_type": "markdown",
   "metadata": {
    "deletable": false,
    "editable": false,
    "id": "0e070l9Pf-HD",
    "nbgrader": {
     "cell_type": "markdown",
     "checksum": "4e3db2f09632243d29c1229462a3c09a",
     "grade": false,
     "grade_id": "cell-73f4d23f398ef242",
     "locked": true,
     "schema_version": 3,
     "solution": false
    }
   },
   "source": [
    "## Filter Feature Selection\n",
    "\n",
    "Select the best features based on [mutual information score](http://scikit-learn.org/stable/modules/generated/sklearn.feature_selection.mutual_info_regression.html#sklearn.feature_selection.mutual_info_regression) from the __training data__, then transform X_train and X_test into the new subset of selected features. See [SelectKBest](http://scikit-learn.org/stable/modules/generated/sklearn.feature_selection.SelectKBest.html#sklearn.feature_selection.SelectKBest)."
   ]
  },
  {
   "cell_type": "code",
   "execution_count": 15,
   "metadata": {
    "executionInfo": {
     "elapsed": 2286,
     "status": "ok",
     "timestamp": 1601496123267,
     "user": {
      "displayName": "Matthew Roos",
      "photoUrl": "https://lh3.googleusercontent.com/a-/AOh14GiyeRFdVCLS_PQVkktJp66dmuu4m19N-Ck1xi8AIA=s64",
      "userId": "16478366312534994918"
     },
     "user_tz": 360
    },
    "id": "w-bMPOGrf-HE",
    "nbgrader": {
     "grade": false,
     "grade_id": "cell-07907cf1d043fed9",
     "locked": false,
     "schema_version": 3,
     "solution": false
    },
    "ExecuteTime": {
     "end_time": "2024-04-10T14:13:05.138221Z",
     "start_time": "2024-04-10T14:13:05.121655Z"
    }
   },
   "outputs": [],
   "source": [
    "# We will select the best k features from all feature selection methods\n",
    "k = 4"
   ]
  },
  {
   "cell_type": "code",
   "execution_count": 16,
   "metadata": {
    "deletable": false,
    "executionInfo": {
     "elapsed": 3382,
     "status": "ok",
     "timestamp": 1601496124367,
     "user": {
      "displayName": "Matthew Roos",
      "photoUrl": "https://lh3.googleusercontent.com/a-/AOh14GiyeRFdVCLS_PQVkktJp66dmuu4m19N-Ck1xi8AIA=s64",
      "userId": "16478366312534994918"
     },
     "user_tz": 360
    },
    "id": "AEXYrhV9f-HI",
    "nbgrader": {
     "cell_type": "code",
     "checksum": "5c2569dd0da2accf380d75734b15fecb",
     "grade": false,
     "grade_id": "cell-279e39610c47c8f8",
     "locked": false,
     "schema_version": 3,
     "solution": true
    },
    "ExecuteTime": {
     "end_time": "2024-04-10T14:13:06.078813Z",
     "start_time": "2024-04-10T14:13:05.738274Z"
    }
   },
   "outputs": [],
   "source": [
    "# Save the transformer you use (fit) as \"mi_transformer\".\n",
    "# Save the transformed set of features as as \"mi_X_train\" and \"mi_X_test\".\n",
    "# YOUR CODE HERE\n",
    "mi_transformer = SelectKBest(mutual_info_regression, k=k)\n",
    "\n",
    "mi_transformer.fit(X_train, y_train)\n",
    "\n",
    "mi_X_train = mi_transformer.transform(X_train)\n",
    "mi_X_test = mi_transformer.transform(X_test)"
   ]
  },
  {
   "cell_type": "code",
   "execution_count": 17,
   "metadata": {
    "colab": {
     "base_uri": "https://localhost:8080/",
     "height": 156
    },
    "executionInfo": {
     "elapsed": 3377,
     "status": "ok",
     "timestamp": 1601496124368,
     "user": {
      "displayName": "Matthew Roos",
      "photoUrl": "https://lh3.googleusercontent.com/a-/AOh14GiyeRFdVCLS_PQVkktJp66dmuu4m19N-Ck1xi8AIA=s64",
      "userId": "16478366312534994918"
     },
     "user_tz": 360
    },
    "id": "yusvojeGf-HM",
    "nbgrader": {
     "grade": false,
     "grade_id": "cell-377847abf96c374c",
     "locked": false,
     "schema_version": 3,
     "solution": false
    },
    "outputId": "ac53942d-4bf2-4dce-afcd-c782abceb331",
    "ExecuteTime": {
     "end_time": "2024-04-10T14:13:07.148311Z",
     "start_time": "2024-04-10T14:13:07.131287Z"
    }
   },
   "outputs": [
    {
     "name": "stdout",
     "output_type": "stream",
     "text": [
      "The MI score for MedInc is 0.39963013811031\n",
      "The MI score for HouseAge is 0.031868598399131365\n",
      "The MI score for AveRooms is 0.10820951212328822\n",
      "The MI score for AveBedrms is 0.0294647707244291\n",
      "The MI score for Population is 0.02414968703531084\n",
      "The MI score for AveOccup is 0.06974783284531316\n",
      "The MI score for Latitude is 0.3604449601205042\n",
      "The MI score for Longitude is 0.4014818781218592\n"
     ]
    }
   ],
   "source": [
    "for feature, importance in zip(house_features.columns, mi_transformer.scores_):\n",
    "    print(f\"The MI score for {feature} is {importance}\")"
   ]
  },
  {
   "cell_type": "markdown",
   "metadata": {
    "id": "_MzRxjDqf-HP"
   },
   "source": [
    "Do these values match what you expected? What are the most important features to use for predicting house prices?"
   ]
  },
  {
   "cell_type": "code",
   "execution_count": 18,
   "metadata": {
    "deletable": false,
    "editable": false,
    "executionInfo": {
     "elapsed": 3372,
     "status": "ok",
     "timestamp": 1601496124368,
     "user": {
      "displayName": "Matthew Roos",
      "photoUrl": "https://lh3.googleusercontent.com/a-/AOh14GiyeRFdVCLS_PQVkktJp66dmuu4m19N-Ck1xi8AIA=s64",
      "userId": "16478366312534994918"
     },
     "user_tz": 360
    },
    "id": "YHu9-O3Sf-HQ",
    "nbgrader": {
     "cell_type": "code",
     "checksum": "802f9b55b98b872ea4be999d1459edc7",
     "grade": true,
     "grade_id": "cell-d7ebf063a0a3ce74",
     "locked": true,
     "points": 5,
     "schema_version": 3,
     "solution": false
    },
    "ExecuteTime": {
     "end_time": "2024-04-10T14:13:13.283585Z",
     "start_time": "2024-04-10T14:13:13.279317Z"
    }
   },
   "outputs": [],
   "source": [
    "assert mi_transformer.k == k\n",
    "assert isinstance(mi_transformer, SelectKBest)\n",
    "assert len(mi_transformer.scores_) == 8\n",
    "assert mi_X_train.shape == (16512, k)\n",
    "assert mi_X_test.shape == (4128, k)"
   ]
  },
  {
   "cell_type": "markdown",
   "metadata": {
    "deletable": false,
    "editable": false,
    "id": "431Iy64bf-HS",
    "nbgrader": {
     "cell_type": "markdown",
     "checksum": "b201dbd371d118f334add32ccf2a7cc9",
     "grade": false,
     "grade_id": "cell-1c4269050710987f",
     "locked": true,
     "schema_version": 3,
     "solution": false
    }
   },
   "source": [
    "Since the focus in this exercise is on the feature learning and not on the supervised learning portion, we will use a simple estimator (linear regression) for the model training portions."
   ]
  },
  {
   "cell_type": "code",
   "execution_count": 19,
   "metadata": {
    "executionInfo": {
     "elapsed": 3368,
     "status": "ok",
     "timestamp": 1601496124368,
     "user": {
      "displayName": "Matthew Roos",
      "photoUrl": "https://lh3.googleusercontent.com/a-/AOh14GiyeRFdVCLS_PQVkktJp66dmuu4m19N-Ck1xi8AIA=s64",
      "userId": "16478366312534994918"
     },
     "user_tz": 360
    },
    "id": "XsPZB6Xaf-HT",
    "nbgrader": {
     "grade": false,
     "grade_id": "cell-26d261acabd92043",
     "locked": false,
     "schema_version": 3,
     "solution": false
    },
    "ExecuteTime": {
     "end_time": "2024-04-10T14:13:32.587058Z",
     "start_time": "2024-04-10T14:13:32.536237Z"
    }
   },
   "outputs": [],
   "source": [
    "miEst = LinearRegression().fit(mi_X_train, y_train)"
   ]
  },
  {
   "cell_type": "code",
   "execution_count": 20,
   "metadata": {
    "colab": {
     "base_uri": "https://localhost:8080/",
     "height": 52
    },
    "executionInfo": {
     "elapsed": 3365,
     "status": "ok",
     "timestamp": 1601496124370,
     "user": {
      "displayName": "Matthew Roos",
      "photoUrl": "https://lh3.googleusercontent.com/a-/AOh14GiyeRFdVCLS_PQVkktJp66dmuu4m19N-Ck1xi8AIA=s64",
      "userId": "16478366312534994918"
     },
     "user_tz": 360
    },
    "id": "0SMSOZUlf-HW",
    "nbgrader": {
     "grade": false,
     "grade_id": "cell-509cc8db3043cda3",
     "locked": false,
     "schema_version": 3,
     "solution": false
    },
    "outputId": "9ba9ae37-c1bf-4332-f2a6-d0a67163ee8a",
    "ExecuteTime": {
     "end_time": "2024-04-10T14:13:33.856336Z",
     "start_time": "2024-04-10T14:13:33.812453Z"
    }
   },
   "outputs": [
    {
     "name": "stdout",
     "output_type": "stream",
     "text": [
      "The mean squared error when training on the MI selected features is 0.5494954356737961.\n",
      "When testing on the test data, the mean squared error is 0.5642909967350348\n"
     ]
    }
   ],
   "source": [
    "print(f\"The mean squared error when training on the MI selected features is {mean_squared_error(y_train, miEst.predict(mi_X_train))}.\")\n",
    "print(f\"When testing on the test data, the mean squared error is {mean_squared_error(y_test, miEst.predict(mi_X_test))}\")"
   ]
  },
  {
   "cell_type": "markdown",
   "metadata": {
    "deletable": false,
    "editable": false,
    "id": "_k91dhOBf-HZ",
    "nbgrader": {
     "cell_type": "markdown",
     "checksum": "fd24db1e64710f55f6f4cdaa0897bb30",
     "grade": false,
     "grade_id": "cell-188bc386a321fe4a",
     "locked": true,
     "schema_version": 3,
     "solution": false
    }
   },
   "source": [
    "## Wrapper Feature Selection\n",
    "\n",
    "Now try using [recursive feature elimination](http://scikit-learn.org/stable/modules/generated/sklearn.feature_selection.RFE.html) to select the 4 features we will use instead.\n",
    "\n",
    "Note that after calling the ```.fit()``` method of the RFE object, a Boolean array that indicates which features are selected is stored as ```rfe_transformer.support_```."
   ]
  },
  {
   "cell_type": "code",
   "execution_count": 21,
   "metadata": {
    "deletable": false,
    "executionInfo": {
     "elapsed": 3360,
     "status": "ok",
     "timestamp": 1601496124370,
     "user": {
      "displayName": "Matthew Roos",
      "photoUrl": "https://lh3.googleusercontent.com/a-/AOh14GiyeRFdVCLS_PQVkktJp66dmuu4m19N-Ck1xi8AIA=s64",
      "userId": "16478366312534994918"
     },
     "user_tz": 360
    },
    "id": "x0y0Nr_Rf-Ha",
    "nbgrader": {
     "cell_type": "code",
     "checksum": "048a6ac9821645c7f8fd98a5bdcb4d3f",
     "grade": false,
     "grade_id": "cell-55f80656b8a4988d",
     "locked": false,
     "schema_version": 3,
     "solution": true
    },
    "ExecuteTime": {
     "end_time": "2024-04-10T14:14:20.828073Z",
     "start_time": "2024-04-10T14:14:20.812623Z"
    }
   },
   "outputs": [],
   "source": [
    "# Use an RFE object to determine the k features to select from X_train using a step of 2\n",
    "# Save the rfe object as rfe_transformer\n",
    "# Create rfe_X_train and rfe_X_test as the updated features based on the RFE output\n",
    "\n",
    "rfeEst = LinearRegression()\n",
    "\n",
    "rfe_transformer = RFE(rfeEst, n_features_to_select=k, step=2)\n",
    "\n",
    "rfe_transformer.fit(X_train, y_train)\n",
    "\n",
    "rfe_X_train = rfe_transformer.transform(X_train)\n",
    "rfe_X_test = rfe_transformer.transform(X_test)"
   ]
  },
  {
   "cell_type": "code",
   "execution_count": 22,
   "metadata": {
    "deletable": false,
    "editable": false,
    "executionInfo": {
     "elapsed": 3358,
     "status": "ok",
     "timestamp": 1601496124371,
     "user": {
      "displayName": "Matthew Roos",
      "photoUrl": "https://lh3.googleusercontent.com/a-/AOh14GiyeRFdVCLS_PQVkktJp66dmuu4m19N-Ck1xi8AIA=s64",
      "userId": "16478366312534994918"
     },
     "user_tz": 360
    },
    "id": "KJx8KNo_f-Hc",
    "nbgrader": {
     "cell_type": "code",
     "checksum": "cfcc2b405c8895bd3191c9725173824d",
     "grade": true,
     "grade_id": "cell-b331e2be0d0e31be",
     "locked": true,
     "points": 5,
     "schema_version": 3,
     "solution": false
    },
    "ExecuteTime": {
     "end_time": "2024-04-10T14:14:21.815127Z",
     "start_time": "2024-04-10T14:14:21.808158Z"
    }
   },
   "outputs": [],
   "source": [
    "assert isinstance(rfe_transformer, RFE)\n",
    "assert rfe_transformer.step == 2\n",
    "assert len(rfe_transformer.support_) == 8\n",
    "assert rfe_X_train.shape == (16512, k)\n",
    "assert rfe_X_test.shape == (4128, k)"
   ]
  },
  {
   "cell_type": "code",
   "execution_count": 23,
   "metadata": {
    "executionInfo": {
     "elapsed": 3355,
     "status": "ok",
     "timestamp": 1601496124371,
     "user": {
      "displayName": "Matthew Roos",
      "photoUrl": "https://lh3.googleusercontent.com/a-/AOh14GiyeRFdVCLS_PQVkktJp66dmuu4m19N-Ck1xi8AIA=s64",
      "userId": "16478366312534994918"
     },
     "user_tz": 360
    },
    "id": "xo3GXcnVf-Hf",
    "nbgrader": {
     "grade": false,
     "grade_id": "cell-8b5e64094fc56786",
     "locked": false,
     "schema_version": 3,
     "solution": false
    },
    "ExecuteTime": {
     "end_time": "2024-04-10T14:14:23.321658Z",
     "start_time": "2024-04-10T14:14:23.316671Z"
    }
   },
   "outputs": [],
   "source": [
    "rfeEst = LinearRegression().fit(rfe_X_train, y_train)"
   ]
  },
  {
   "cell_type": "code",
   "execution_count": 24,
   "metadata": {
    "colab": {
     "base_uri": "https://localhost:8080/",
     "height": 52
    },
    "executionInfo": {
     "elapsed": 3350,
     "status": "ok",
     "timestamp": 1601496124372,
     "user": {
      "displayName": "Matthew Roos",
      "photoUrl": "https://lh3.googleusercontent.com/a-/AOh14GiyeRFdVCLS_PQVkktJp66dmuu4m19N-Ck1xi8AIA=s64",
      "userId": "16478366312534994918"
     },
     "user_tz": 360
    },
    "id": "KcxNKz7wf-Hi",
    "nbgrader": {
     "grade": false,
     "grade_id": "cell-23d00cc293b154f8",
     "locked": false,
     "schema_version": 3,
     "solution": false
    },
    "outputId": "70a03a3d-4ae2-4d97-d0b0-ec592f45650f",
    "ExecuteTime": {
     "end_time": "2024-04-10T14:14:24.432737Z",
     "start_time": "2024-04-10T14:14:24.420197Z"
    }
   },
   "outputs": [
    {
     "name": "stdout",
     "output_type": "stream",
     "text": [
      "The mean squared error when training on the RFE selected features is 0.5451672299133382.\n",
      "When testing on the test data, the mean squared error is 0.5580832992075773\n"
     ]
    }
   ],
   "source": [
    "print(f\"The mean squared error when training on the RFE selected features is {mean_squared_error(y_train, rfeEst.predict(rfe_X_train))}.\")\n",
    "print(f\"When testing on the test data, the mean squared error is {mean_squared_error(y_test, rfeEst.predict(rfe_X_test))}\")"
   ]
  },
  {
   "cell_type": "code",
   "execution_count": 25,
   "metadata": {
    "ExecuteTime": {
     "end_time": "2024-04-10T14:14:26.976176Z",
     "start_time": "2024-04-10T14:14:26.968851Z"
    }
   },
   "outputs": [
    {
     "name": "stdout",
     "output_type": "stream",
     "text": [
      "The most important features as determined by RFE were ['MedInc', 'AveBedrms', 'Latitude', 'Longitude']\n"
     ]
    }
   ],
   "source": [
    "print(f\"The most important features as determined by RFE were {list(house_features.columns[rfe_transformer.support_])}\")"
   ]
  },
  {
   "cell_type": "markdown",
   "metadata": {
    "deletable": false,
    "editable": false,
    "id": "MyVVZaMyf-Hl",
    "nbgrader": {
     "cell_type": "markdown",
     "checksum": "2fab1553b908cc0d0f9f47e5de40bfb9",
     "grade": false,
     "grade_id": "cell-b851aa52ef728d9f",
     "locked": true,
     "schema_version": 3,
     "solution": false
    }
   },
   "source": [
    "## Embedded Methods\n",
    "\n",
    "For the embedded methods feature selection example, we will use Lasso. For this task you should use [LassoCV](http://scikit-learn.org/stable/modules/generated/sklearn.linear_model.LassoCV.html#sklearn.linear_model.LassoCV) and **not** [Lasso](http://scikit-learn.org/stable/modules/generated/sklearn.linear_model.Lasso.html) so that it trains with various values for alpha.\n",
    "\n",
    "Since this is an embedded method, the feature selection will occur directly in the model."
   ]
  },
  {
   "cell_type": "code",
   "execution_count": 26,
   "metadata": {
    "colab": {
     "base_uri": "https://localhost:8080/",
     "height": 86
    },
    "deletable": false,
    "executionInfo": {
     "elapsed": 3345,
     "status": "ok",
     "timestamp": 1601496124373,
     "user": {
      "displayName": "Matthew Roos",
      "photoUrl": "https://lh3.googleusercontent.com/a-/AOh14GiyeRFdVCLS_PQVkktJp66dmuu4m19N-Ck1xi8AIA=s64",
      "userId": "16478366312534994918"
     },
     "user_tz": 360
    },
    "id": "dGFxLkbhf-Hm",
    "nbgrader": {
     "cell_type": "code",
     "checksum": "20640debdf468232227b931e9ac4661a",
     "grade": false,
     "grade_id": "cell-1cedfcb1fb61f7ff",
     "locked": false,
     "schema_version": 3,
     "solution": true
    },
    "outputId": "08103c64-df08-4804-f682-2b6e24d6a6f2",
    "ExecuteTime": {
     "end_time": "2024-04-10T14:15:01.753270Z",
     "start_time": "2024-04-10T14:15:01.372582Z"
    }
   },
   "outputs": [
    {
     "data": {
      "text/plain": "LassoCV(n_alphas=10)",
      "text/html": "<style>#sk-container-id-1 {\n  /* Definition of color scheme common for light and dark mode */\n  --sklearn-color-text: black;\n  --sklearn-color-line: gray;\n  /* Definition of color scheme for unfitted estimators */\n  --sklearn-color-unfitted-level-0: #fff5e6;\n  --sklearn-color-unfitted-level-1: #f6e4d2;\n  --sklearn-color-unfitted-level-2: #ffe0b3;\n  --sklearn-color-unfitted-level-3: chocolate;\n  /* Definition of color scheme for fitted estimators */\n  --sklearn-color-fitted-level-0: #f0f8ff;\n  --sklearn-color-fitted-level-1: #d4ebff;\n  --sklearn-color-fitted-level-2: #b3dbfd;\n  --sklearn-color-fitted-level-3: cornflowerblue;\n\n  /* Specific color for light theme */\n  --sklearn-color-text-on-default-background: var(--sg-text-color, var(--theme-code-foreground, var(--jp-content-font-color1, black)));\n  --sklearn-color-background: var(--sg-background-color, var(--theme-background, var(--jp-layout-color0, white)));\n  --sklearn-color-border-box: var(--sg-text-color, var(--theme-code-foreground, var(--jp-content-font-color1, black)));\n  --sklearn-color-icon: #696969;\n\n  @media (prefers-color-scheme: dark) {\n    /* Redefinition of color scheme for dark theme */\n    --sklearn-color-text-on-default-background: var(--sg-text-color, var(--theme-code-foreground, var(--jp-content-font-color1, white)));\n    --sklearn-color-background: var(--sg-background-color, var(--theme-background, var(--jp-layout-color0, #111)));\n    --sklearn-color-border-box: var(--sg-text-color, var(--theme-code-foreground, var(--jp-content-font-color1, white)));\n    --sklearn-color-icon: #878787;\n  }\n}\n\n#sk-container-id-1 {\n  color: var(--sklearn-color-text);\n}\n\n#sk-container-id-1 pre {\n  padding: 0;\n}\n\n#sk-container-id-1 input.sk-hidden--visually {\n  border: 0;\n  clip: rect(1px 1px 1px 1px);\n  clip: rect(1px, 1px, 1px, 1px);\n  height: 1px;\n  margin: -1px;\n  overflow: hidden;\n  padding: 0;\n  position: absolute;\n  width: 1px;\n}\n\n#sk-container-id-1 div.sk-dashed-wrapped {\n  border: 1px dashed var(--sklearn-color-line);\n  margin: 0 0.4em 0.5em 0.4em;\n  box-sizing: border-box;\n  padding-bottom: 0.4em;\n  background-color: var(--sklearn-color-background);\n}\n\n#sk-container-id-1 div.sk-container {\n  /* jupyter's `normalize.less` sets `[hidden] { display: none; }`\n     but bootstrap.min.css set `[hidden] { display: none !important; }`\n     so we also need the `!important` here to be able to override the\n     default hidden behavior on the sphinx rendered scikit-learn.org.\n     See: https://github.com/scikit-learn/scikit-learn/issues/21755 */\n  display: inline-block !important;\n  position: relative;\n}\n\n#sk-container-id-1 div.sk-text-repr-fallback {\n  display: none;\n}\n\ndiv.sk-parallel-item,\ndiv.sk-serial,\ndiv.sk-item {\n  /* draw centered vertical line to link estimators */\n  background-image: linear-gradient(var(--sklearn-color-text-on-default-background), var(--sklearn-color-text-on-default-background));\n  background-size: 2px 100%;\n  background-repeat: no-repeat;\n  background-position: center center;\n}\n\n/* Parallel-specific style estimator block */\n\n#sk-container-id-1 div.sk-parallel-item::after {\n  content: \"\";\n  width: 100%;\n  border-bottom: 2px solid var(--sklearn-color-text-on-default-background);\n  flex-grow: 1;\n}\n\n#sk-container-id-1 div.sk-parallel {\n  display: flex;\n  align-items: stretch;\n  justify-content: center;\n  background-color: var(--sklearn-color-background);\n  position: relative;\n}\n\n#sk-container-id-1 div.sk-parallel-item {\n  display: flex;\n  flex-direction: column;\n}\n\n#sk-container-id-1 div.sk-parallel-item:first-child::after {\n  align-self: flex-end;\n  width: 50%;\n}\n\n#sk-container-id-1 div.sk-parallel-item:last-child::after {\n  align-self: flex-start;\n  width: 50%;\n}\n\n#sk-container-id-1 div.sk-parallel-item:only-child::after {\n  width: 0;\n}\n\n/* Serial-specific style estimator block */\n\n#sk-container-id-1 div.sk-serial {\n  display: flex;\n  flex-direction: column;\n  align-items: center;\n  background-color: var(--sklearn-color-background);\n  padding-right: 1em;\n  padding-left: 1em;\n}\n\n\n/* Toggleable style: style used for estimator/Pipeline/ColumnTransformer box that is\nclickable and can be expanded/collapsed.\n- Pipeline and ColumnTransformer use this feature and define the default style\n- Estimators will overwrite some part of the style using the `sk-estimator` class\n*/\n\n/* Pipeline and ColumnTransformer style (default) */\n\n#sk-container-id-1 div.sk-toggleable {\n  /* Default theme specific background. It is overwritten whether we have a\n  specific estimator or a Pipeline/ColumnTransformer */\n  background-color: var(--sklearn-color-background);\n}\n\n/* Toggleable label */\n#sk-container-id-1 label.sk-toggleable__label {\n  cursor: pointer;\n  display: block;\n  width: 100%;\n  margin-bottom: 0;\n  padding: 0.5em;\n  box-sizing: border-box;\n  text-align: center;\n}\n\n#sk-container-id-1 label.sk-toggleable__label-arrow:before {\n  /* Arrow on the left of the label */\n  content: \"▸\";\n  float: left;\n  margin-right: 0.25em;\n  color: var(--sklearn-color-icon);\n}\n\n#sk-container-id-1 label.sk-toggleable__label-arrow:hover:before {\n  color: var(--sklearn-color-text);\n}\n\n/* Toggleable content - dropdown */\n\n#sk-container-id-1 div.sk-toggleable__content {\n  max-height: 0;\n  max-width: 0;\n  overflow: hidden;\n  text-align: left;\n  /* unfitted */\n  background-color: var(--sklearn-color-unfitted-level-0);\n}\n\n#sk-container-id-1 div.sk-toggleable__content.fitted {\n  /* fitted */\n  background-color: var(--sklearn-color-fitted-level-0);\n}\n\n#sk-container-id-1 div.sk-toggleable__content pre {\n  margin: 0.2em;\n  border-radius: 0.25em;\n  color: var(--sklearn-color-text);\n  /* unfitted */\n  background-color: var(--sklearn-color-unfitted-level-0);\n}\n\n#sk-container-id-1 div.sk-toggleable__content.fitted pre {\n  /* unfitted */\n  background-color: var(--sklearn-color-fitted-level-0);\n}\n\n#sk-container-id-1 input.sk-toggleable__control:checked~div.sk-toggleable__content {\n  /* Expand drop-down */\n  max-height: 200px;\n  max-width: 100%;\n  overflow: auto;\n}\n\n#sk-container-id-1 input.sk-toggleable__control:checked~label.sk-toggleable__label-arrow:before {\n  content: \"▾\";\n}\n\n/* Pipeline/ColumnTransformer-specific style */\n\n#sk-container-id-1 div.sk-label input.sk-toggleable__control:checked~label.sk-toggleable__label {\n  color: var(--sklearn-color-text);\n  background-color: var(--sklearn-color-unfitted-level-2);\n}\n\n#sk-container-id-1 div.sk-label.fitted input.sk-toggleable__control:checked~label.sk-toggleable__label {\n  background-color: var(--sklearn-color-fitted-level-2);\n}\n\n/* Estimator-specific style */\n\n/* Colorize estimator box */\n#sk-container-id-1 div.sk-estimator input.sk-toggleable__control:checked~label.sk-toggleable__label {\n  /* unfitted */\n  background-color: var(--sklearn-color-unfitted-level-2);\n}\n\n#sk-container-id-1 div.sk-estimator.fitted input.sk-toggleable__control:checked~label.sk-toggleable__label {\n  /* fitted */\n  background-color: var(--sklearn-color-fitted-level-2);\n}\n\n#sk-container-id-1 div.sk-label label.sk-toggleable__label,\n#sk-container-id-1 div.sk-label label {\n  /* The background is the default theme color */\n  color: var(--sklearn-color-text-on-default-background);\n}\n\n/* On hover, darken the color of the background */\n#sk-container-id-1 div.sk-label:hover label.sk-toggleable__label {\n  color: var(--sklearn-color-text);\n  background-color: var(--sklearn-color-unfitted-level-2);\n}\n\n/* Label box, darken color on hover, fitted */\n#sk-container-id-1 div.sk-label.fitted:hover label.sk-toggleable__label.fitted {\n  color: var(--sklearn-color-text);\n  background-color: var(--sklearn-color-fitted-level-2);\n}\n\n/* Estimator label */\n\n#sk-container-id-1 div.sk-label label {\n  font-family: monospace;\n  font-weight: bold;\n  display: inline-block;\n  line-height: 1.2em;\n}\n\n#sk-container-id-1 div.sk-label-container {\n  text-align: center;\n}\n\n/* Estimator-specific */\n#sk-container-id-1 div.sk-estimator {\n  font-family: monospace;\n  border: 1px dotted var(--sklearn-color-border-box);\n  border-radius: 0.25em;\n  box-sizing: border-box;\n  margin-bottom: 0.5em;\n  /* unfitted */\n  background-color: var(--sklearn-color-unfitted-level-0);\n}\n\n#sk-container-id-1 div.sk-estimator.fitted {\n  /* fitted */\n  background-color: var(--sklearn-color-fitted-level-0);\n}\n\n/* on hover */\n#sk-container-id-1 div.sk-estimator:hover {\n  /* unfitted */\n  background-color: var(--sklearn-color-unfitted-level-2);\n}\n\n#sk-container-id-1 div.sk-estimator.fitted:hover {\n  /* fitted */\n  background-color: var(--sklearn-color-fitted-level-2);\n}\n\n/* Specification for estimator info (e.g. \"i\" and \"?\") */\n\n/* Common style for \"i\" and \"?\" */\n\n.sk-estimator-doc-link,\na:link.sk-estimator-doc-link,\na:visited.sk-estimator-doc-link {\n  float: right;\n  font-size: smaller;\n  line-height: 1em;\n  font-family: monospace;\n  background-color: var(--sklearn-color-background);\n  border-radius: 1em;\n  height: 1em;\n  width: 1em;\n  text-decoration: none !important;\n  margin-left: 1ex;\n  /* unfitted */\n  border: var(--sklearn-color-unfitted-level-1) 1pt solid;\n  color: var(--sklearn-color-unfitted-level-1);\n}\n\n.sk-estimator-doc-link.fitted,\na:link.sk-estimator-doc-link.fitted,\na:visited.sk-estimator-doc-link.fitted {\n  /* fitted */\n  border: var(--sklearn-color-fitted-level-1) 1pt solid;\n  color: var(--sklearn-color-fitted-level-1);\n}\n\n/* On hover */\ndiv.sk-estimator:hover .sk-estimator-doc-link:hover,\n.sk-estimator-doc-link:hover,\ndiv.sk-label-container:hover .sk-estimator-doc-link:hover,\n.sk-estimator-doc-link:hover {\n  /* unfitted */\n  background-color: var(--sklearn-color-unfitted-level-3);\n  color: var(--sklearn-color-background);\n  text-decoration: none;\n}\n\ndiv.sk-estimator.fitted:hover .sk-estimator-doc-link.fitted:hover,\n.sk-estimator-doc-link.fitted:hover,\ndiv.sk-label-container:hover .sk-estimator-doc-link.fitted:hover,\n.sk-estimator-doc-link.fitted:hover {\n  /* fitted */\n  background-color: var(--sklearn-color-fitted-level-3);\n  color: var(--sklearn-color-background);\n  text-decoration: none;\n}\n\n/* Span, style for the box shown on hovering the info icon */\n.sk-estimator-doc-link span {\n  display: none;\n  z-index: 9999;\n  position: relative;\n  font-weight: normal;\n  right: .2ex;\n  padding: .5ex;\n  margin: .5ex;\n  width: min-content;\n  min-width: 20ex;\n  max-width: 50ex;\n  color: var(--sklearn-color-text);\n  box-shadow: 2pt 2pt 4pt #999;\n  /* unfitted */\n  background: var(--sklearn-color-unfitted-level-0);\n  border: .5pt solid var(--sklearn-color-unfitted-level-3);\n}\n\n.sk-estimator-doc-link.fitted span {\n  /* fitted */\n  background: var(--sklearn-color-fitted-level-0);\n  border: var(--sklearn-color-fitted-level-3);\n}\n\n.sk-estimator-doc-link:hover span {\n  display: block;\n}\n\n/* \"?\"-specific style due to the `<a>` HTML tag */\n\n#sk-container-id-1 a.estimator_doc_link {\n  float: right;\n  font-size: 1rem;\n  line-height: 1em;\n  font-family: monospace;\n  background-color: var(--sklearn-color-background);\n  border-radius: 1rem;\n  height: 1rem;\n  width: 1rem;\n  text-decoration: none;\n  /* unfitted */\n  color: var(--sklearn-color-unfitted-level-1);\n  border: var(--sklearn-color-unfitted-level-1) 1pt solid;\n}\n\n#sk-container-id-1 a.estimator_doc_link.fitted {\n  /* fitted */\n  border: var(--sklearn-color-fitted-level-1) 1pt solid;\n  color: var(--sklearn-color-fitted-level-1);\n}\n\n/* On hover */\n#sk-container-id-1 a.estimator_doc_link:hover {\n  /* unfitted */\n  background-color: var(--sklearn-color-unfitted-level-3);\n  color: var(--sklearn-color-background);\n  text-decoration: none;\n}\n\n#sk-container-id-1 a.estimator_doc_link.fitted:hover {\n  /* fitted */\n  background-color: var(--sklearn-color-fitted-level-3);\n}\n</style><div id=\"sk-container-id-1\" class=\"sk-top-container\"><div class=\"sk-text-repr-fallback\"><pre>LassoCV(n_alphas=10)</pre><b>In a Jupyter environment, please rerun this cell to show the HTML representation or trust the notebook. <br />On GitHub, the HTML representation is unable to render, please try loading this page with nbviewer.org.</b></div><div class=\"sk-container\" hidden><div class=\"sk-item\"><div class=\"sk-estimator fitted sk-toggleable\"><input class=\"sk-toggleable__control sk-hidden--visually\" id=\"sk-estimator-id-1\" type=\"checkbox\" checked><label for=\"sk-estimator-id-1\" class=\"sk-toggleable__label fitted sk-toggleable__label-arrow fitted\">&nbsp;&nbsp;LassoCV<a class=\"sk-estimator-doc-link fitted\" rel=\"noreferrer\" target=\"_blank\" href=\"https://scikit-learn.org/1.4/modules/generated/sklearn.linear_model.LassoCV.html\">?<span>Documentation for LassoCV</span></a><span class=\"sk-estimator-doc-link fitted\">i<span>Fitted</span></span></label><div class=\"sk-toggleable__content fitted\"><pre>LassoCV(n_alphas=10)</pre></div> </div></div></div></div>"
     },
     "execution_count": 26,
     "metadata": {},
     "output_type": "execute_result"
    }
   ],
   "source": [
    "# Create a LassoCV model trained with 10 alphas and save it to lassoEst\n",
    "# YOUR CODE HERE\n",
    "lassoEst = LassoCV(n_alphas=10)\n",
    "\n",
    "lassoEst.fit(X_train, y_train)"
   ]
  },
  {
   "cell_type": "code",
   "execution_count": 27,
   "metadata": {
    "colab": {
     "base_uri": "https://localhost:8080/",
     "height": 52
    },
    "executionInfo": {
     "elapsed": 3339,
     "status": "ok",
     "timestamp": 1601496124374,
     "user": {
      "displayName": "Matthew Roos",
      "photoUrl": "https://lh3.googleusercontent.com/a-/AOh14GiyeRFdVCLS_PQVkktJp66dmuu4m19N-Ck1xi8AIA=s64",
      "userId": "16478366312534994918"
     },
     "user_tz": 360
    },
    "id": "JBOjg9aIf-Hp",
    "nbgrader": {
     "grade": false,
     "grade_id": "cell-e0ef99dd29a079d0",
     "locked": false,
     "schema_version": 3,
     "solution": false
    },
    "outputId": "41ff43c0-92c1-4b93-b55c-fbdbd6c8d607",
    "ExecuteTime": {
     "end_time": "2024-04-10T14:15:02.859289Z",
     "start_time": "2024-04-10T14:15:02.847126Z"
    }
   },
   "outputs": [
    {
     "data": {
      "text/plain": "array([ 0.8172285 ,  0.11878355, -0.22453658,  0.2660654 , -0.0062399 ,\n       -0.02936718, -0.88177587, -0.85089246])"
     },
     "execution_count": 27,
     "metadata": {},
     "output_type": "execute_result"
    }
   ],
   "source": [
    "lassoEst.coef_"
   ]
  },
  {
   "cell_type": "code",
   "execution_count": 28,
   "metadata": {
    "ExecuteTime": {
     "end_time": "2024-04-10T14:15:05.671765Z",
     "start_time": "2024-04-10T14:15:05.658752Z"
    }
   },
   "outputs": [
    {
     "name": "stdout",
     "output_type": "stream",
     "text": [
      "The magniture of the feature coefficient for MedInc is 0.8172284997738892.\n",
      "The magniture of the feature coefficient for HouseAge is 0.11878355321284885.\n",
      "The magniture of the feature coefficient for AveRooms is 0.2245365787499033.\n",
      "The magniture of the feature coefficient for AveBedrms is 0.26606540007395557.\n",
      "The magniture of the feature coefficient for Population is 0.0062399043585295655.\n",
      "The magniture of the feature coefficient for AveOccup is 0.02936717698787836.\n",
      "The magniture of the feature coefficient for Latitude is 0.8817758655028378.\n",
      "The magniture of the feature coefficient for Longitude is 0.850892463078756.\n"
     ]
    }
   ],
   "source": [
    "for feature, coef in zip(house_features.columns, lassoEst.coef_):\n",
    "    print(f\"The magniture of the feature coefficient for {feature} is {abs(coef)}.\")"
   ]
  },
  {
   "cell_type": "code",
   "execution_count": 29,
   "metadata": {
    "colab": {
     "base_uri": "https://localhost:8080/",
     "height": 34
    },
    "executionInfo": {
     "elapsed": 3333,
     "status": "ok",
     "timestamp": 1601496124375,
     "user": {
      "displayName": "Matthew Roos",
      "photoUrl": "https://lh3.googleusercontent.com/a-/AOh14GiyeRFdVCLS_PQVkktJp66dmuu4m19N-Ck1xi8AIA=s64",
      "userId": "16478366312534994918"
     },
     "user_tz": 360
    },
    "id": "Q36ODCosf-Hs",
    "nbgrader": {
     "grade": false,
     "grade_id": "cell-13ec10079ead686f",
     "locked": false,
     "schema_version": 3,
     "solution": false
    },
    "outputId": "905943cb-98ec-43fc-a124-099f406c5a00",
    "ExecuteTime": {
     "end_time": "2024-04-10T14:15:11.398371Z",
     "start_time": "2024-04-10T14:15:11.379599Z"
    }
   },
   "outputs": [
    {
     "data": {
      "text/plain": "0.0017266465315919485"
     },
     "execution_count": 29,
     "metadata": {},
     "output_type": "execute_result"
    }
   ],
   "source": [
    "lassoEst.alpha_"
   ]
  },
  {
   "cell_type": "code",
   "execution_count": 30,
   "metadata": {
    "deletable": false,
    "editable": false,
    "executionInfo": {
     "elapsed": 3329,
     "status": "ok",
     "timestamp": 1601496124375,
     "user": {
      "displayName": "Matthew Roos",
      "photoUrl": "https://lh3.googleusercontent.com/a-/AOh14GiyeRFdVCLS_PQVkktJp66dmuu4m19N-Ck1xi8AIA=s64",
      "userId": "16478366312534994918"
     },
     "user_tz": 360
    },
    "id": "yCDszhJNf-Hu",
    "nbgrader": {
     "cell_type": "code",
     "checksum": "dcf3862d7564bd0223f67c9afa92c5ba",
     "grade": true,
     "grade_id": "cell-14338e2d22cac6c8",
     "locked": true,
     "points": 5,
     "schema_version": 3,
     "solution": false
    },
    "ExecuteTime": {
     "end_time": "2024-04-10T14:15:12.475178Z",
     "start_time": "2024-04-10T14:15:12.468861Z"
    }
   },
   "outputs": [],
   "source": [
    "assert lassoEst\n",
    "assert isinstance(lassoEst, LassoCV)\n",
    "assert len(lassoEst.coef_) == 8"
   ]
  },
  {
   "cell_type": "code",
   "execution_count": 31,
   "metadata": {
    "colab": {
     "base_uri": "https://localhost:8080/",
     "height": 52
    },
    "executionInfo": {
     "elapsed": 3318,
     "status": "ok",
     "timestamp": 1601496124375,
     "user": {
      "displayName": "Matthew Roos",
      "photoUrl": "https://lh3.googleusercontent.com/a-/AOh14GiyeRFdVCLS_PQVkktJp66dmuu4m19N-Ck1xi8AIA=s64",
      "userId": "16478366312534994918"
     },
     "user_tz": 360
    },
    "id": "T4I8EhOMf-Hx",
    "nbgrader": {
     "grade": false,
     "grade_id": "cell-a658fc6cce0c662e",
     "locked": false,
     "schema_version": 3,
     "solution": false
    },
    "outputId": "89131f7a-f754-4113-af8a-336a493edfd1",
    "ExecuteTime": {
     "end_time": "2024-04-10T14:15:13.895094Z",
     "start_time": "2024-04-10T14:15:13.855793Z"
    }
   },
   "outputs": [
    {
     "name": "stdout",
     "output_type": "stream",
     "text": [
      "The mean squared error when training using lasso is 0.5236104671923245.\n",
      "When testing on the test data, the mean squared error is 0.5298113560764504\n"
     ]
    }
   ],
   "source": [
    "print(f\"The mean squared error when training using lasso is {mean_squared_error(y_train, lassoEst.predict(X_train))}.\")\n",
    "print(f\"When testing on the test data, the mean squared error is {mean_squared_error(y_test, lassoEst.predict(X_test))}\")"
   ]
  },
  {
   "cell_type": "markdown",
   "metadata": {},
   "source": [
    "Compare each model's prioritized features. Which model do you think is the best? What do they tell you about this data?"
   ]
  },
  {
   "cell_type": "markdown",
   "metadata": {},
   "source": [
    "# Grading\n",
    "The following code block is purely used for grading. If you find any error, you can ignore. DO NOT MODIFY THE CODE BLOCK BELOW."
   ]
  },
  {
   "cell_type": "code",
   "execution_count": null,
   "metadata": {},
   "outputs": [],
   "source": [
    "# Autograding with Otter Grader\n",
    "import otter\n",
    "grader = otter.Notebook()\n",
    "grader.check_all()"
   ]
  },
  {
   "cell_type": "markdown",
   "metadata": {
    "deletable": false,
    "editable": false,
    "id": "tx7y_EDmf-IB",
    "nbgrader": {
     "cell_type": "markdown",
     "checksum": "1f7640f916f64aeac4af3ec318d3b9cd",
     "grade": false,
     "grade_id": "cell-a1034774d762a001",
     "locked": true,
     "schema_version": 3,
     "solution": false
    }
   },
   "source": [
    "## Feedback"
   ]
  },
  {
   "cell_type": "code",
   "execution_count": null,
   "metadata": {
    "deletable": false,
    "executionInfo": {
     "elapsed": 3420,
     "status": "ok",
     "timestamp": 1601496124507,
     "user": {
      "displayName": "Matthew Roos",
      "photoUrl": "https://lh3.googleusercontent.com/a-/AOh14GiyeRFdVCLS_PQVkktJp66dmuu4m19N-Ck1xi8AIA=s64",
      "userId": "16478366312534994918"
     },
     "user_tz": 360
    },
    "id": "MIUt2oGaf-IB",
    "nbgrader": {
     "cell_type": "code",
     "checksum": "ed936ab53a1391c5e6af8df699a1dbf5",
     "grade": false,
     "grade_id": "feedback",
     "locked": false,
     "schema_version": 3,
     "solution": true
    }
   },
   "outputs": [],
   "source": [
    "def feedback():\n",
    "    \"\"\"Provide feedback on the contents of this exercise\n",
    "    \n",
    "    Returns:\n",
    "        string\n",
    "    \"\"\"\n",
    "    # YOUR CODE HERE\n",
    "    return 'this was cool'"
   ]
  },
  {
   "cell_type": "code",
   "execution_count": null,
   "metadata": {
    "deletable": false,
    "editable": false,
    "executionInfo": {
     "elapsed": 3418,
     "status": "ok",
     "timestamp": 1601496124508,
     "user": {
      "displayName": "Matthew Roos",
      "photoUrl": "https://lh3.googleusercontent.com/a-/AOh14GiyeRFdVCLS_PQVkktJp66dmuu4m19N-Ck1xi8AIA=s64",
      "userId": "16478366312534994918"
     },
     "user_tz": 360
    },
    "id": "KCd4r1U1f-IC",
    "nbgrader": {
     "cell_type": "code",
     "checksum": "f39f6185a54850c2f1f9b5b2a17b7543",
     "grade": true,
     "grade_id": "feedback-tests",
     "locked": true,
     "points": 0,
     "schema_version": 3,
     "solution": false
    }
   },
   "outputs": [],
   "source": []
  }
 ],
 "metadata": {
  "colab": {
   "collapsed_sections": [],
   "name": "4a_Feature_Learning_2.ipynb",
   "provenance": []
  },
  "kernelspec": {
   "display_name": "Python 3",
   "language": "python",
   "name": "python3"
  },
  "language_info": {
   "codemirror_mode": {
    "name": "ipython",
    "version": 3
   },
   "file_extension": ".py",
   "mimetype": "text/x-python",
   "name": "python",
   "nbconvert_exporter": "python",
   "pygments_lexer": "ipython3",
   "version": "3.7.4"
  }
 },
 "nbformat": 4,
 "nbformat_minor": 1
}
